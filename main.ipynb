{
 "cells": [
  {
   "cell_type": "code",
   "execution_count": 1,
   "metadata": {},
   "outputs": [],
   "source": [
    "from pathlib import Path\n",
    "import csv"
   ]
  },
  {
   "cell_type": "code",
   "execution_count": 2,
   "metadata": {},
   "outputs": [],
   "source": [
    "csvpath = Path('../PyBank/budget_data.csv')\n"
   ]
  },
  {
   "cell_type": "code",
   "execution_count": 3,
   "metadata": {},
   "outputs": [
    {
     "name": "stdout",
     "output_type": "stream",
     "text": [
      "86\n",
      "38382578\n",
      "-2315.12\n",
      "1926159\n",
      "Feb-2012\n",
      "-2196167\n",
      "Sep-2013\n"
     ]
    }
   ],
   "source": [
    "months = []\n",
    "net_change_list = []\n",
    "total = []\n",
    "with open(csvpath, 'r') as csvfile:\n",
    "    csvreader = csv.reader(csvfile, delimiter=',')\n",
    "    header = next(csvreader)\n",
    "    current_month = None\n",
    "    previous_month = None\n",
    "    for row in csvreader:\n",
    "        total.append(int(row[1]))\n",
    "        date = row[0]\n",
    "        if previous_month is None:\n",
    "            previous_month = row\n",
    "        else: \n",
    "            net_change = int(row[1]) - int(previous_month[1])\n",
    "            months.append(row[0])\n",
    "            net_change_list.append(net_change)\n",
    "            previous_month = row\n",
    "print(len(months)+1)\n",
    "print(sum(total))\n",
    "print(round(sum(net_change_list)/len(months),2))\n",
    "max_profit = max(net_change_list)\n",
    "max_profit_month = months[net_change_list.index(max_profit)]\n",
    "print(max_profit)\n",
    "print(max_profit_month)\n",
    "min_profit = min(net_change_list)\n",
    "min_profit_month = months[net_change_list.index(min_profit)]\n",
    "print(min_profit)\n",
    "print(min_profit_month)"
   ]
  },
  {
   "cell_type": "code",
   "execution_count": 4,
   "metadata": {},
   "outputs": [
    {
     "name": "stdout",
     "output_type": "stream",
     "text": [
      "Financial Analysis\n",
      "---------------------\n",
      "Total Months: 86\n",
      "Total: $38382578\n",
      "Average Change: $-2315.12\n",
      "Greatest Increase in Profits: Feb-2012 ($1926159)\n",
      "Greatest Decrease in Profits: Sep-2013 ($-2196167)\n"
     ]
    }
   ],
   "source": [
    "print(\"Financial Analysis\")\n",
    "print(\"---------------------\")\n",
    "print(f\"Total Months: {str(len(months)+1)}\")\n",
    "print(f\"Total: ${str(sum(total))}\")\n",
    "print(f\"Average Change: ${str(round(sum(net_change_list)/len(months),2))}\")\n",
    "print(f\"Greatest Increase in Profits: {max_profit_month} (${str(max_profit)})\")\n",
    "print(f\"Greatest Decrease in Profits: {min_profit_month} (${str(min_profit)})\")"
   ]
  },
  {
   "cell_type": "code",
   "execution_count": 5,
   "metadata": {},
   "outputs": [
    {
     "data": {
      "text/plain": [
       "202"
      ]
     },
     "execution_count": 5,
     "metadata": {},
     "output_type": "execute_result"
    }
   ],
   "source": [
    "output = open(\"output.txt\", \"w\")\n",
    "\n",
    "line1 = \"Financial Analysis\"\n",
    "line2 = \"---------------------\"\n",
    "line3 = (f\"Total Months: {str(len(months)+1)}\")\n",
    "line4 = (f\"Total: ${str(sum(total))}\")\n",
    "line5 = (f\"Average Change: ${str(round(sum(net_change_list)/len(months),2))}\")\n",
    "line6 = (f\"Greatest Increase in Profits: {max_profit_month} (${str(max_profit)})\")\n",
    "line7 = (f\"Greatest Decrease in Profits: {min_profit_month} (${str(min_profit)})\")\n",
    "output.write('{}\\n{}\\n{}\\n{}\\n{}\\n{}\\n{}\\n'.format(line1, line2, line3, line4, line5, line6, line7))"
   ]
  },
  {
   "cell_type": "code",
   "execution_count": null,
   "metadata": {},
   "outputs": [],
   "source": []
  }
 ],
 "metadata": {
  "kernelspec": {
   "display_name": "Python 3",
   "language": "python",
   "name": "python3"
  },
  "language_info": {
   "codemirror_mode": {
    "name": "ipython",
    "version": 3
   },
   "file_extension": ".py",
   "mimetype": "text/x-python",
   "name": "python",
   "nbconvert_exporter": "python",
   "pygments_lexer": "ipython3",
   "version": "3.8.3"
  }
 },
 "nbformat": 4,
 "nbformat_minor": 4
}
